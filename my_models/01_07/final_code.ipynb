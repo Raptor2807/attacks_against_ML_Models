{
  "cells": [
    {
      "cell_type": "code",
      "execution_count": 1,
      "id": "b93ff71a",
      "metadata": {
        "id": "b93ff71a"
      },
      "outputs": [],
      "source": [
        "import torch\n",
        "import torch.nn as nn\n",
        "import torch.optim as optim\n",
        "import torchvision.models as models\n",
        "import torchvision\n",
        "import torchvision.transforms as transforms\n",
        "import torch.nn.functional as F\n",
        "\n",
        "import pickle\n",
        "import matplotlib.pyplot as plt\n",
        "import numpy as np"
      ]
    },
    {
      "cell_type": "code",
      "source": [
        "from google.colab import drive\n",
        "drive.mount(\"/content/drive\", force_remount=True)\n",
        "%cd '/content/drive/My Drive'"
      ],
      "metadata": {
        "colab": {
          "base_uri": "https://localhost:8080/"
        },
        "id": "348pe93bLlbD",
        "outputId": "f925f400-329b-48f7-fed9-74eb8c4c7cce"
      },
      "id": "348pe93bLlbD",
      "execution_count": 2,
      "outputs": [
        {
          "output_type": "stream",
          "name": "stdout",
          "text": [
            "Mounted at /content/drive\n",
            "/content/drive/My Drive\n"
          ]
        }
      ]
    },
    {
      "cell_type": "markdown",
      "id": "d524f56c",
      "metadata": {
        "id": "d524f56c"
      },
      "source": [
        "# Code to load MobileNet TARGET MODEL trained on Cifar-10 dataset"
      ]
    },
    {
      "cell_type": "code",
      "execution_count": 3,
      "id": "77ee32b6",
      "metadata": {
        "id": "77ee32b6"
      },
      "outputs": [],
      "source": [
        "# Change the MODEL_PATH to your local model path\n",
        "MODEL_PATH = 'Colab_Notebooks/mobilenetv2_cifar10.pth'\n",
        "\n",
        "target_device = torch.device(\"cuda:0\" if torch.cuda.is_available() else \"cpu\")\n",
        "\n",
        "# Change num_classes to 200 when you use the Tiny ImageNet dataset\n",
        "target_model = models.mobilenet_v2(num_classes=10).to(target_device)\n",
        "\n",
        "state_dict = torch.load(MODEL_PATH, map_location=target_device)\n",
        "target_model.load_state_dict(state_dict['net'])\n",
        "\n",
        "# Test accuracy\n",
        "acc = state_dict['acc']\n",
        "\n",
        "# Training epoch (start from 0)\n",
        "epoch = state_dict['epoch']\n",
        "\n",
        "#Accuracy = 72.24666666666667"
      ]
    },
    {
      "cell_type": "markdown",
      "id": "3bd239ea",
      "metadata": {
        "id": "3bd239ea"
      },
      "source": [
        "# 2. Import Cifar-10 dataset to train on shadow model (shadow.p)"
      ]
    },
    {
      "cell_type": "code",
      "execution_count": 4,
      "id": "1725a239",
      "metadata": {
        "id": "1725a239"
      },
      "outputs": [],
      "source": [
        "# Change the DATA_PATH to your local pickle file path\n",
        "DATA_PATH = 'Colab_Notebooks/shadow.p'\n",
        "\n",
        "data_device = torch.device(\"cuda:0\" if torch.cuda.is_available() else \"cpu\")\n",
        "\n",
        "with open(DATA_PATH, \"rb\") as f:\n",
        "    dataset = pickle.load(f)\n",
        "\n",
        "dataloader = torch.utils.data.DataLoader(dataset, batch_size=64, shuffle=False, num_workers=2)\n"
      ]
    },
    {
      "cell_type": "code",
      "execution_count": 6,
      "id": "feae21cd",
      "metadata": {
        "colab": {
          "base_uri": "https://localhost:8080/"
        },
        "id": "feae21cd",
        "outputId": "561e21fc-85df-452f-e4aa-ce7884dc69f4"
      },
      "outputs": [
        {
          "output_type": "stream",
          "name": "stdout",
          "text": [
            "<class 'list'> 30000\n",
            "<class 'list'> 2\n",
            "<class 'torch.Tensor'> torch.Size([3, 32, 32])\n",
            "<class 'int'> 1\n"
          ]
        }
      ],
      "source": [
        "print(type(dataset), len(dataset))\n",
        "print(type(dataset[0]), len(dataset[0]))\n",
        "\n",
        "print(type(dataset[0][0]), dataset[0][0].shape)\n",
        "print(type(dataset[0][1]), dataset[0][1])"
      ]
    },
    {
      "cell_type": "markdown",
      "id": "8e56c7a0",
      "metadata": {
        "id": "8e56c7a0"
      },
      "source": [
        "## 2.1 Split shadow.p between train and test;"
      ]
    },
    {
      "cell_type": "code",
      "execution_count": 5,
      "id": "4b3585ab",
      "metadata": {
        "id": "4b3585ab"
      },
      "outputs": [],
      "source": [
        "generator1 = torch.Generator().manual_seed(42)\n",
        "train_set_size = int(len(dataset) * 0.8)\n",
        "valid_set_size = len(dataset) - train_set_size\n",
        "data = torch.utils.data.random_split(dataset, [train_set_size, valid_set_size], generator=generator1)\n",
        "\n",
        "\n",
        "#With the trainloader variable, you can iterate over the training set in your training loop,\n",
        "#performing operations on each batch of data.\n",
        "trainloader = torch.utils.data.DataLoader(data[0], batch_size=128, shuffle=False, num_workers=2)\n",
        "testloader = torch.utils.data.DataLoader(data[1], batch_size=128, shuffle=False, num_workers=2)"
      ]
    },
    {
      "cell_type": "markdown",
      "id": "18b9b8d5",
      "metadata": {
        "id": "18b9b8d5"
      },
      "source": [
        "# 3. Make a Shadow model and Train it"
      ]
    },
    {
      "cell_type": "code",
      "execution_count": 6,
      "id": "f6de77e7",
      "metadata": {
        "colab": {
          "base_uri": "https://localhost:8080/"
        },
        "id": "f6de77e7",
        "outputId": "46bdd13f-a5f7-48b9-a1e3-d84b724880b6"
      },
      "outputs": [
        {
          "output_type": "execute_result",
          "data": {
            "text/plain": [
              "MobileNetV2(\n",
              "  (features): Sequential(\n",
              "    (0): Conv2dNormActivation(\n",
              "      (0): Conv2d(3, 32, kernel_size=(3, 3), stride=(2, 2), padding=(1, 1), bias=False)\n",
              "      (1): BatchNorm2d(32, eps=1e-05, momentum=0.1, affine=True, track_running_stats=True)\n",
              "      (2): ReLU6(inplace=True)\n",
              "    )\n",
              "    (1): InvertedResidual(\n",
              "      (conv): Sequential(\n",
              "        (0): Conv2dNormActivation(\n",
              "          (0): Conv2d(32, 32, kernel_size=(3, 3), stride=(1, 1), padding=(1, 1), groups=32, bias=False)\n",
              "          (1): BatchNorm2d(32, eps=1e-05, momentum=0.1, affine=True, track_running_stats=True)\n",
              "          (2): ReLU6(inplace=True)\n",
              "        )\n",
              "        (1): Conv2d(32, 16, kernel_size=(1, 1), stride=(1, 1), bias=False)\n",
              "        (2): BatchNorm2d(16, eps=1e-05, momentum=0.1, affine=True, track_running_stats=True)\n",
              "      )\n",
              "    )\n",
              "    (2): InvertedResidual(\n",
              "      (conv): Sequential(\n",
              "        (0): Conv2dNormActivation(\n",
              "          (0): Conv2d(16, 96, kernel_size=(1, 1), stride=(1, 1), bias=False)\n",
              "          (1): BatchNorm2d(96, eps=1e-05, momentum=0.1, affine=True, track_running_stats=True)\n",
              "          (2): ReLU6(inplace=True)\n",
              "        )\n",
              "        (1): Conv2dNormActivation(\n",
              "          (0): Conv2d(96, 96, kernel_size=(3, 3), stride=(2, 2), padding=(1, 1), groups=96, bias=False)\n",
              "          (1): BatchNorm2d(96, eps=1e-05, momentum=0.1, affine=True, track_running_stats=True)\n",
              "          (2): ReLU6(inplace=True)\n",
              "        )\n",
              "        (2): Conv2d(96, 24, kernel_size=(1, 1), stride=(1, 1), bias=False)\n",
              "        (3): BatchNorm2d(24, eps=1e-05, momentum=0.1, affine=True, track_running_stats=True)\n",
              "      )\n",
              "    )\n",
              "    (3): InvertedResidual(\n",
              "      (conv): Sequential(\n",
              "        (0): Conv2dNormActivation(\n",
              "          (0): Conv2d(24, 144, kernel_size=(1, 1), stride=(1, 1), bias=False)\n",
              "          (1): BatchNorm2d(144, eps=1e-05, momentum=0.1, affine=True, track_running_stats=True)\n",
              "          (2): ReLU6(inplace=True)\n",
              "        )\n",
              "        (1): Conv2dNormActivation(\n",
              "          (0): Conv2d(144, 144, kernel_size=(3, 3), stride=(1, 1), padding=(1, 1), groups=144, bias=False)\n",
              "          (1): BatchNorm2d(144, eps=1e-05, momentum=0.1, affine=True, track_running_stats=True)\n",
              "          (2): ReLU6(inplace=True)\n",
              "        )\n",
              "        (2): Conv2d(144, 24, kernel_size=(1, 1), stride=(1, 1), bias=False)\n",
              "        (3): BatchNorm2d(24, eps=1e-05, momentum=0.1, affine=True, track_running_stats=True)\n",
              "      )\n",
              "    )\n",
              "    (4): InvertedResidual(\n",
              "      (conv): Sequential(\n",
              "        (0): Conv2dNormActivation(\n",
              "          (0): Conv2d(24, 144, kernel_size=(1, 1), stride=(1, 1), bias=False)\n",
              "          (1): BatchNorm2d(144, eps=1e-05, momentum=0.1, affine=True, track_running_stats=True)\n",
              "          (2): ReLU6(inplace=True)\n",
              "        )\n",
              "        (1): Conv2dNormActivation(\n",
              "          (0): Conv2d(144, 144, kernel_size=(3, 3), stride=(2, 2), padding=(1, 1), groups=144, bias=False)\n",
              "          (1): BatchNorm2d(144, eps=1e-05, momentum=0.1, affine=True, track_running_stats=True)\n",
              "          (2): ReLU6(inplace=True)\n",
              "        )\n",
              "        (2): Conv2d(144, 32, kernel_size=(1, 1), stride=(1, 1), bias=False)\n",
              "        (3): BatchNorm2d(32, eps=1e-05, momentum=0.1, affine=True, track_running_stats=True)\n",
              "      )\n",
              "    )\n",
              "    (5): InvertedResidual(\n",
              "      (conv): Sequential(\n",
              "        (0): Conv2dNormActivation(\n",
              "          (0): Conv2d(32, 192, kernel_size=(1, 1), stride=(1, 1), bias=False)\n",
              "          (1): BatchNorm2d(192, eps=1e-05, momentum=0.1, affine=True, track_running_stats=True)\n",
              "          (2): ReLU6(inplace=True)\n",
              "        )\n",
              "        (1): Conv2dNormActivation(\n",
              "          (0): Conv2d(192, 192, kernel_size=(3, 3), stride=(1, 1), padding=(1, 1), groups=192, bias=False)\n",
              "          (1): BatchNorm2d(192, eps=1e-05, momentum=0.1, affine=True, track_running_stats=True)\n",
              "          (2): ReLU6(inplace=True)\n",
              "        )\n",
              "        (2): Conv2d(192, 32, kernel_size=(1, 1), stride=(1, 1), bias=False)\n",
              "        (3): BatchNorm2d(32, eps=1e-05, momentum=0.1, affine=True, track_running_stats=True)\n",
              "      )\n",
              "    )\n",
              "    (6): InvertedResidual(\n",
              "      (conv): Sequential(\n",
              "        (0): Conv2dNormActivation(\n",
              "          (0): Conv2d(32, 192, kernel_size=(1, 1), stride=(1, 1), bias=False)\n",
              "          (1): BatchNorm2d(192, eps=1e-05, momentum=0.1, affine=True, track_running_stats=True)\n",
              "          (2): ReLU6(inplace=True)\n",
              "        )\n",
              "        (1): Conv2dNormActivation(\n",
              "          (0): Conv2d(192, 192, kernel_size=(3, 3), stride=(1, 1), padding=(1, 1), groups=192, bias=False)\n",
              "          (1): BatchNorm2d(192, eps=1e-05, momentum=0.1, affine=True, track_running_stats=True)\n",
              "          (2): ReLU6(inplace=True)\n",
              "        )\n",
              "        (2): Conv2d(192, 32, kernel_size=(1, 1), stride=(1, 1), bias=False)\n",
              "        (3): BatchNorm2d(32, eps=1e-05, momentum=0.1, affine=True, track_running_stats=True)\n",
              "      )\n",
              "    )\n",
              "    (7): InvertedResidual(\n",
              "      (conv): Sequential(\n",
              "        (0): Conv2dNormActivation(\n",
              "          (0): Conv2d(32, 192, kernel_size=(1, 1), stride=(1, 1), bias=False)\n",
              "          (1): BatchNorm2d(192, eps=1e-05, momentum=0.1, affine=True, track_running_stats=True)\n",
              "          (2): ReLU6(inplace=True)\n",
              "        )\n",
              "        (1): Conv2dNormActivation(\n",
              "          (0): Conv2d(192, 192, kernel_size=(3, 3), stride=(2, 2), padding=(1, 1), groups=192, bias=False)\n",
              "          (1): BatchNorm2d(192, eps=1e-05, momentum=0.1, affine=True, track_running_stats=True)\n",
              "          (2): ReLU6(inplace=True)\n",
              "        )\n",
              "        (2): Conv2d(192, 64, kernel_size=(1, 1), stride=(1, 1), bias=False)\n",
              "        (3): BatchNorm2d(64, eps=1e-05, momentum=0.1, affine=True, track_running_stats=True)\n",
              "      )\n",
              "    )\n",
              "    (8): InvertedResidual(\n",
              "      (conv): Sequential(\n",
              "        (0): Conv2dNormActivation(\n",
              "          (0): Conv2d(64, 384, kernel_size=(1, 1), stride=(1, 1), bias=False)\n",
              "          (1): BatchNorm2d(384, eps=1e-05, momentum=0.1, affine=True, track_running_stats=True)\n",
              "          (2): ReLU6(inplace=True)\n",
              "        )\n",
              "        (1): Conv2dNormActivation(\n",
              "          (0): Conv2d(384, 384, kernel_size=(3, 3), stride=(1, 1), padding=(1, 1), groups=384, bias=False)\n",
              "          (1): BatchNorm2d(384, eps=1e-05, momentum=0.1, affine=True, track_running_stats=True)\n",
              "          (2): ReLU6(inplace=True)\n",
              "        )\n",
              "        (2): Conv2d(384, 64, kernel_size=(1, 1), stride=(1, 1), bias=False)\n",
              "        (3): BatchNorm2d(64, eps=1e-05, momentum=0.1, affine=True, track_running_stats=True)\n",
              "      )\n",
              "    )\n",
              "    (9): InvertedResidual(\n",
              "      (conv): Sequential(\n",
              "        (0): Conv2dNormActivation(\n",
              "          (0): Conv2d(64, 384, kernel_size=(1, 1), stride=(1, 1), bias=False)\n",
              "          (1): BatchNorm2d(384, eps=1e-05, momentum=0.1, affine=True, track_running_stats=True)\n",
              "          (2): ReLU6(inplace=True)\n",
              "        )\n",
              "        (1): Conv2dNormActivation(\n",
              "          (0): Conv2d(384, 384, kernel_size=(3, 3), stride=(1, 1), padding=(1, 1), groups=384, bias=False)\n",
              "          (1): BatchNorm2d(384, eps=1e-05, momentum=0.1, affine=True, track_running_stats=True)\n",
              "          (2): ReLU6(inplace=True)\n",
              "        )\n",
              "        (2): Conv2d(384, 64, kernel_size=(1, 1), stride=(1, 1), bias=False)\n",
              "        (3): BatchNorm2d(64, eps=1e-05, momentum=0.1, affine=True, track_running_stats=True)\n",
              "      )\n",
              "    )\n",
              "    (10): InvertedResidual(\n",
              "      (conv): Sequential(\n",
              "        (0): Conv2dNormActivation(\n",
              "          (0): Conv2d(64, 384, kernel_size=(1, 1), stride=(1, 1), bias=False)\n",
              "          (1): BatchNorm2d(384, eps=1e-05, momentum=0.1, affine=True, track_running_stats=True)\n",
              "          (2): ReLU6(inplace=True)\n",
              "        )\n",
              "        (1): Conv2dNormActivation(\n",
              "          (0): Conv2d(384, 384, kernel_size=(3, 3), stride=(1, 1), padding=(1, 1), groups=384, bias=False)\n",
              "          (1): BatchNorm2d(384, eps=1e-05, momentum=0.1, affine=True, track_running_stats=True)\n",
              "          (2): ReLU6(inplace=True)\n",
              "        )\n",
              "        (2): Conv2d(384, 64, kernel_size=(1, 1), stride=(1, 1), bias=False)\n",
              "        (3): BatchNorm2d(64, eps=1e-05, momentum=0.1, affine=True, track_running_stats=True)\n",
              "      )\n",
              "    )\n",
              "    (11): InvertedResidual(\n",
              "      (conv): Sequential(\n",
              "        (0): Conv2dNormActivation(\n",
              "          (0): Conv2d(64, 384, kernel_size=(1, 1), stride=(1, 1), bias=False)\n",
              "          (1): BatchNorm2d(384, eps=1e-05, momentum=0.1, affine=True, track_running_stats=True)\n",
              "          (2): ReLU6(inplace=True)\n",
              "        )\n",
              "        (1): Conv2dNormActivation(\n",
              "          (0): Conv2d(384, 384, kernel_size=(3, 3), stride=(1, 1), padding=(1, 1), groups=384, bias=False)\n",
              "          (1): BatchNorm2d(384, eps=1e-05, momentum=0.1, affine=True, track_running_stats=True)\n",
              "          (2): ReLU6(inplace=True)\n",
              "        )\n",
              "        (2): Conv2d(384, 96, kernel_size=(1, 1), stride=(1, 1), bias=False)\n",
              "        (3): BatchNorm2d(96, eps=1e-05, momentum=0.1, affine=True, track_running_stats=True)\n",
              "      )\n",
              "    )\n",
              "    (12): InvertedResidual(\n",
              "      (conv): Sequential(\n",
              "        (0): Conv2dNormActivation(\n",
              "          (0): Conv2d(96, 576, kernel_size=(1, 1), stride=(1, 1), bias=False)\n",
              "          (1): BatchNorm2d(576, eps=1e-05, momentum=0.1, affine=True, track_running_stats=True)\n",
              "          (2): ReLU6(inplace=True)\n",
              "        )\n",
              "        (1): Conv2dNormActivation(\n",
              "          (0): Conv2d(576, 576, kernel_size=(3, 3), stride=(1, 1), padding=(1, 1), groups=576, bias=False)\n",
              "          (1): BatchNorm2d(576, eps=1e-05, momentum=0.1, affine=True, track_running_stats=True)\n",
              "          (2): ReLU6(inplace=True)\n",
              "        )\n",
              "        (2): Conv2d(576, 96, kernel_size=(1, 1), stride=(1, 1), bias=False)\n",
              "        (3): BatchNorm2d(96, eps=1e-05, momentum=0.1, affine=True, track_running_stats=True)\n",
              "      )\n",
              "    )\n",
              "    (13): InvertedResidual(\n",
              "      (conv): Sequential(\n",
              "        (0): Conv2dNormActivation(\n",
              "          (0): Conv2d(96, 576, kernel_size=(1, 1), stride=(1, 1), bias=False)\n",
              "          (1): BatchNorm2d(576, eps=1e-05, momentum=0.1, affine=True, track_running_stats=True)\n",
              "          (2): ReLU6(inplace=True)\n",
              "        )\n",
              "        (1): Conv2dNormActivation(\n",
              "          (0): Conv2d(576, 576, kernel_size=(3, 3), stride=(1, 1), padding=(1, 1), groups=576, bias=False)\n",
              "          (1): BatchNorm2d(576, eps=1e-05, momentum=0.1, affine=True, track_running_stats=True)\n",
              "          (2): ReLU6(inplace=True)\n",
              "        )\n",
              "        (2): Conv2d(576, 96, kernel_size=(1, 1), stride=(1, 1), bias=False)\n",
              "        (3): BatchNorm2d(96, eps=1e-05, momentum=0.1, affine=True, track_running_stats=True)\n",
              "      )\n",
              "    )\n",
              "    (14): InvertedResidual(\n",
              "      (conv): Sequential(\n",
              "        (0): Conv2dNormActivation(\n",
              "          (0): Conv2d(96, 576, kernel_size=(1, 1), stride=(1, 1), bias=False)\n",
              "          (1): BatchNorm2d(576, eps=1e-05, momentum=0.1, affine=True, track_running_stats=True)\n",
              "          (2): ReLU6(inplace=True)\n",
              "        )\n",
              "        (1): Conv2dNormActivation(\n",
              "          (0): Conv2d(576, 576, kernel_size=(3, 3), stride=(2, 2), padding=(1, 1), groups=576, bias=False)\n",
              "          (1): BatchNorm2d(576, eps=1e-05, momentum=0.1, affine=True, track_running_stats=True)\n",
              "          (2): ReLU6(inplace=True)\n",
              "        )\n",
              "        (2): Conv2d(576, 160, kernel_size=(1, 1), stride=(1, 1), bias=False)\n",
              "        (3): BatchNorm2d(160, eps=1e-05, momentum=0.1, affine=True, track_running_stats=True)\n",
              "      )\n",
              "    )\n",
              "    (15): InvertedResidual(\n",
              "      (conv): Sequential(\n",
              "        (0): Conv2dNormActivation(\n",
              "          (0): Conv2d(160, 960, kernel_size=(1, 1), stride=(1, 1), bias=False)\n",
              "          (1): BatchNorm2d(960, eps=1e-05, momentum=0.1, affine=True, track_running_stats=True)\n",
              "          (2): ReLU6(inplace=True)\n",
              "        )\n",
              "        (1): Conv2dNormActivation(\n",
              "          (0): Conv2d(960, 960, kernel_size=(3, 3), stride=(1, 1), padding=(1, 1), groups=960, bias=False)\n",
              "          (1): BatchNorm2d(960, eps=1e-05, momentum=0.1, affine=True, track_running_stats=True)\n",
              "          (2): ReLU6(inplace=True)\n",
              "        )\n",
              "        (2): Conv2d(960, 160, kernel_size=(1, 1), stride=(1, 1), bias=False)\n",
              "        (3): BatchNorm2d(160, eps=1e-05, momentum=0.1, affine=True, track_running_stats=True)\n",
              "      )\n",
              "    )\n",
              "    (16): InvertedResidual(\n",
              "      (conv): Sequential(\n",
              "        (0): Conv2dNormActivation(\n",
              "          (0): Conv2d(160, 960, kernel_size=(1, 1), stride=(1, 1), bias=False)\n",
              "          (1): BatchNorm2d(960, eps=1e-05, momentum=0.1, affine=True, track_running_stats=True)\n",
              "          (2): ReLU6(inplace=True)\n",
              "        )\n",
              "        (1): Conv2dNormActivation(\n",
              "          (0): Conv2d(960, 960, kernel_size=(3, 3), stride=(1, 1), padding=(1, 1), groups=960, bias=False)\n",
              "          (1): BatchNorm2d(960, eps=1e-05, momentum=0.1, affine=True, track_running_stats=True)\n",
              "          (2): ReLU6(inplace=True)\n",
              "        )\n",
              "        (2): Conv2d(960, 160, kernel_size=(1, 1), stride=(1, 1), bias=False)\n",
              "        (3): BatchNorm2d(160, eps=1e-05, momentum=0.1, affine=True, track_running_stats=True)\n",
              "      )\n",
              "    )\n",
              "    (17): InvertedResidual(\n",
              "      (conv): Sequential(\n",
              "        (0): Conv2dNormActivation(\n",
              "          (0): Conv2d(160, 960, kernel_size=(1, 1), stride=(1, 1), bias=False)\n",
              "          (1): BatchNorm2d(960, eps=1e-05, momentum=0.1, affine=True, track_running_stats=True)\n",
              "          (2): ReLU6(inplace=True)\n",
              "        )\n",
              "        (1): Conv2dNormActivation(\n",
              "          (0): Conv2d(960, 960, kernel_size=(3, 3), stride=(1, 1), padding=(1, 1), groups=960, bias=False)\n",
              "          (1): BatchNorm2d(960, eps=1e-05, momentum=0.1, affine=True, track_running_stats=True)\n",
              "          (2): ReLU6(inplace=True)\n",
              "        )\n",
              "        (2): Conv2d(960, 320, kernel_size=(1, 1), stride=(1, 1), bias=False)\n",
              "        (3): BatchNorm2d(320, eps=1e-05, momentum=0.1, affine=True, track_running_stats=True)\n",
              "      )\n",
              "    )\n",
              "    (18): Conv2dNormActivation(\n",
              "      (0): Conv2d(320, 1280, kernel_size=(1, 1), stride=(1, 1), bias=False)\n",
              "      (1): BatchNorm2d(1280, eps=1e-05, momentum=0.1, affine=True, track_running_stats=True)\n",
              "      (2): ReLU6(inplace=True)\n",
              "    )\n",
              "  )\n",
              "  (classifier): Sequential(\n",
              "    (0): Dropout(p=0.2, inplace=False)\n",
              "    (1): Linear(in_features=1280, out_features=10, bias=True)\n",
              "  )\n",
              ")"
            ]
          },
          "metadata": {},
          "execution_count": 6
        }
      ],
      "source": [
        "shadow_model_train_device = torch.device(\"cuda:0\" if torch.cuda.is_available() else \"cpu\")\n",
        "\n",
        "shadow_model = models.mobilenet_v2(num_classes=10).to(shadow_model_train_device)\n",
        "\n",
        "# Define the loss function\n",
        "criterion = nn.CrossEntropyLoss()\n",
        "\n",
        "# Define the optimizer\n",
        "#optimizer = optim.SGD(model.parameters(), lr=0.001, momentum=0.9)\n",
        "optimizer = optim.Adam(shadow_model.parameters(), lr=0.001)\n",
        "\n",
        "shadow_model.to(shadow_model_train_device)"
      ]
    },
    {
      "cell_type": "code",
      "execution_count": 8,
      "id": "bd10ef80",
      "metadata": {
        "colab": {
          "base_uri": "https://localhost:8080/"
        },
        "id": "bd10ef80",
        "outputId": "608b4a16-2301-48a5-e4b6-4966c4eeacd2"
      },
      "outputs": [
        {
          "output_type": "stream",
          "name": "stdout",
          "text": [
            "Epoch [1/100], Step [100/188], Accuracy: 19.05% ,Loss: 2.1686\n",
            "Epoch [2/100], Step [100/188], Accuracy: 34.39% ,Loss: 1.7535\n",
            "Epoch [3/100], Step [100/188], Accuracy: 43.01% ,Loss: 1.5592\n",
            "Epoch [4/100], Step [100/188], Accuracy: 47.55% ,Loss: 1.4338\n",
            "Epoch [5/100], Step [100/188], Accuracy: 51.62% ,Loss: 1.3347\n",
            "Epoch [6/100], Step [100/188], Accuracy: 54.41% ,Loss: 1.2642\n",
            "Epoch [7/100], Step [100/188], Accuracy: 56.78% ,Loss: 1.2025\n",
            "Epoch [8/100], Step [100/188], Accuracy: 59.54% ,Loss: 1.1370\n",
            "Epoch [9/100], Step [100/188], Accuracy: 62.07% ,Loss: 1.0749\n",
            "Epoch [10/100], Step [100/188], Accuracy: 63.55% ,Loss: 1.0238\n",
            "Epoch [11/100], Step [100/188], Accuracy: 65.93% ,Loss: 0.9739\n",
            "Epoch [12/100], Step [100/188], Accuracy: 67.71% ,Loss: 0.9346\n",
            "Epoch [13/100], Step [100/188], Accuracy: 69.12% ,Loss: 0.8786\n",
            "Epoch [14/100], Step [100/188], Accuracy: 70.96% ,Loss: 0.8330\n",
            "Epoch [15/100], Step [100/188], Accuracy: 72.73% ,Loss: 0.7829\n",
            "Epoch [16/100], Step [100/188], Accuracy: 74.19% ,Loss: 0.7469\n",
            "Epoch [17/100], Step [100/188], Accuracy: 75.50% ,Loss: 0.7021\n",
            "Epoch [18/100], Step [100/188], Accuracy: 77.44% ,Loss: 0.6523\n",
            "Epoch [19/100], Step [100/188], Accuracy: 78.37% ,Loss: 0.6210\n",
            "Epoch [20/100], Step [100/188], Accuracy: 80.32% ,Loss: 0.5809\n",
            "Epoch [21/100], Step [100/188], Accuracy: 81.39% ,Loss: 0.5346\n",
            "Epoch [22/100], Step [100/188], Accuracy: 82.65% ,Loss: 0.4990\n",
            "Epoch [23/100], Step [100/188], Accuracy: 83.54% ,Loss: 0.4720\n",
            "Epoch [24/100], Step [100/188], Accuracy: 83.88% ,Loss: 0.4580\n",
            "Epoch [25/100], Step [100/188], Accuracy: 85.24% ,Loss: 0.4239\n",
            "Epoch [26/100], Step [100/188], Accuracy: 86.31% ,Loss: 0.3862\n",
            "Epoch [27/100], Step [100/188], Accuracy: 87.16% ,Loss: 0.3652\n",
            "Epoch [28/100], Step [100/188], Accuracy: 88.76% ,Loss: 0.3232\n",
            "Epoch [29/100], Step [100/188], Accuracy: 88.94% ,Loss: 0.3059\n",
            "Epoch [30/100], Step [100/188], Accuracy: 89.38% ,Loss: 0.3058\n",
            "Epoch [31/100], Step [100/188], Accuracy: 90.34% ,Loss: 0.2822\n",
            "Epoch [32/100], Step [100/188], Accuracy: 90.69% ,Loss: 0.2702\n",
            "Epoch [33/100], Step [100/188], Accuracy: 91.52% ,Loss: 0.2455\n",
            "Epoch [34/100], Step [100/188], Accuracy: 92.05% ,Loss: 0.2326\n",
            "Epoch [35/100], Step [100/188], Accuracy: 92.00% ,Loss: 0.2299\n",
            "Epoch [36/100], Step [100/188], Accuracy: 92.91% ,Loss: 0.1995\n",
            "Epoch [37/100], Step [100/188], Accuracy: 93.43% ,Loss: 0.1858\n",
            "Epoch [38/100], Step [100/188], Accuracy: 92.55% ,Loss: 0.2171\n",
            "Epoch [39/100], Step [100/188], Accuracy: 93.91% ,Loss: 0.1796\n",
            "Epoch [40/100], Step [100/188], Accuracy: 93.64% ,Loss: 0.1823\n",
            "Epoch [41/100], Step [100/188], Accuracy: 93.40% ,Loss: 0.1858\n",
            "Epoch [42/100], Step [100/188], Accuracy: 94.43% ,Loss: 0.1615\n",
            "Epoch [43/100], Step [100/188], Accuracy: 94.33% ,Loss: 0.1638\n",
            "Epoch [44/100], Step [100/188], Accuracy: 94.36% ,Loss: 0.1589\n",
            "Epoch [45/100], Step [100/188], Accuracy: 94.31% ,Loss: 0.1642\n",
            "Epoch [46/100], Step [100/188], Accuracy: 95.19% ,Loss: 0.1387\n",
            "Epoch [47/100], Step [100/188], Accuracy: 94.95% ,Loss: 0.1461\n",
            "Epoch [48/100], Step [100/188], Accuracy: 95.41% ,Loss: 0.1312\n",
            "Epoch [49/100], Step [100/188], Accuracy: 95.33% ,Loss: 0.1390\n",
            "Epoch [50/100], Step [100/188], Accuracy: 95.44% ,Loss: 0.1353\n",
            "Epoch [51/100], Step [100/188], Accuracy: 95.28% ,Loss: 0.1339\n",
            "Epoch [52/100], Step [100/188], Accuracy: 95.48% ,Loss: 0.1323\n",
            "Epoch [53/100], Step [100/188], Accuracy: 96.01% ,Loss: 0.1170\n",
            "Epoch [54/100], Step [100/188], Accuracy: 95.99% ,Loss: 0.1139\n",
            "Epoch [55/100], Step [100/188], Accuracy: 95.78% ,Loss: 0.1256\n",
            "Epoch [56/100], Step [100/188], Accuracy: 95.73% ,Loss: 0.1228\n",
            "Epoch [57/100], Step [100/188], Accuracy: 96.30% ,Loss: 0.1074\n",
            "Epoch [58/100], Step [100/188], Accuracy: 95.62% ,Loss: 0.1242\n",
            "Epoch [59/100], Step [100/188], Accuracy: 96.17% ,Loss: 0.1129\n",
            "Epoch [60/100], Step [100/188], Accuracy: 95.88% ,Loss: 0.1231\n",
            "Epoch [61/100], Step [100/188], Accuracy: 95.89% ,Loss: 0.1201\n",
            "Epoch [62/100], Step [100/188], Accuracy: 96.96% ,Loss: 0.0878\n",
            "Epoch [63/100], Step [100/188], Accuracy: 96.55% ,Loss: 0.1019\n",
            "Epoch [64/100], Step [100/188], Accuracy: 96.84% ,Loss: 0.0981\n",
            "Epoch [65/100], Step [100/188], Accuracy: 96.34% ,Loss: 0.1078\n",
            "Epoch [66/100], Step [100/188], Accuracy: 96.25% ,Loss: 0.1095\n",
            "Epoch [67/100], Step [100/188], Accuracy: 97.07% ,Loss: 0.0828\n",
            "Epoch [68/100], Step [100/188], Accuracy: 95.98% ,Loss: 0.1138\n",
            "Epoch [69/100], Step [100/188], Accuracy: 96.94% ,Loss: 0.0916\n",
            "Epoch [70/100], Step [100/188], Accuracy: 96.88% ,Loss: 0.0885\n",
            "Epoch [71/100], Step [100/188], Accuracy: 96.65% ,Loss: 0.0931\n",
            "Epoch [72/100], Step [100/188], Accuracy: 96.57% ,Loss: 0.1016\n",
            "Epoch [73/100], Step [100/188], Accuracy: 96.85% ,Loss: 0.0924\n",
            "Epoch [74/100], Step [100/188], Accuracy: 96.81% ,Loss: 0.0880\n",
            "Epoch [75/100], Step [100/188], Accuracy: 97.05% ,Loss: 0.0894\n",
            "Epoch [76/100], Step [100/188], Accuracy: 96.38% ,Loss: 0.0990\n",
            "Epoch [77/100], Step [100/188], Accuracy: 96.71% ,Loss: 0.0929\n",
            "Epoch [78/100], Step [100/188], Accuracy: 96.49% ,Loss: 0.1011\n",
            "Epoch [79/100], Step [100/188], Accuracy: 97.33% ,Loss: 0.0776\n",
            "Epoch [80/100], Step [100/188], Accuracy: 97.29% ,Loss: 0.0817\n",
            "Epoch [81/100], Step [100/188], Accuracy: 97.30% ,Loss: 0.0755\n",
            "Epoch [82/100], Step [100/188], Accuracy: 97.28% ,Loss: 0.0814\n",
            "Epoch [83/100], Step [100/188], Accuracy: 97.03% ,Loss: 0.0870\n",
            "Epoch [84/100], Step [100/188], Accuracy: 97.59% ,Loss: 0.0686\n",
            "Epoch [85/100], Step [100/188], Accuracy: 97.33% ,Loss: 0.0753\n",
            "Epoch [86/100], Step [100/188], Accuracy: 97.81% ,Loss: 0.0678\n",
            "Epoch [87/100], Step [100/188], Accuracy: 97.39% ,Loss: 0.0760\n",
            "Epoch [88/100], Step [100/188], Accuracy: 97.53% ,Loss: 0.0739\n",
            "Epoch [89/100], Step [100/188], Accuracy: 97.27% ,Loss: 0.0823\n",
            "Epoch [90/100], Step [100/188], Accuracy: 97.39% ,Loss: 0.0744\n",
            "Epoch [91/100], Step [100/188], Accuracy: 97.23% ,Loss: 0.0806\n",
            "Epoch [92/100], Step [100/188], Accuracy: 97.62% ,Loss: 0.0744\n",
            "Epoch [93/100], Step [100/188], Accuracy: 97.74% ,Loss: 0.0685\n",
            "Epoch [94/100], Step [100/188], Accuracy: 97.63% ,Loss: 0.0709\n",
            "Epoch [95/100], Step [100/188], Accuracy: 97.54% ,Loss: 0.0729\n",
            "Epoch [96/100], Step [100/188], Accuracy: 97.89% ,Loss: 0.0597\n",
            "Epoch [97/100], Step [100/188], Accuracy: 98.18% ,Loss: 0.0550\n",
            "Epoch [98/100], Step [100/188], Accuracy: 97.58% ,Loss: 0.0684\n",
            "Epoch [99/100], Step [100/188], Accuracy: 97.41% ,Loss: 0.0754\n",
            "Epoch [100/100], Step [100/188], Accuracy: 97.80% ,Loss: 0.0654\n"
          ]
        }
      ],
      "source": [
        "num_epochs = 100\n",
        "\n",
        "total_correct = 0\n",
        "total_samples = 0\n",
        "\n",
        "shadow_outputs_train = []\n",
        "\n",
        "for epoch in range(num_epochs):\n",
        "\n",
        "    total_correct = 0\n",
        "    total_samples = 0\n",
        "    running_loss = 0.0\n",
        "    for i, (images, labels) in enumerate(trainloader):\n",
        "        images = images.to(shadow_model_train_device)\n",
        "        labels = labels.to(shadow_model_train_device)\n",
        "\n",
        "        # Zero the gradients\n",
        "        optimizer.zero_grad()\n",
        "\n",
        "        # Forward pass\n",
        "        outputs = shadow_model(images)\n",
        "\n",
        "        # Append the outputs to the shadow_outputs list\n",
        "        shadow_outputs_train.append(outputs.detach().cpu())\n",
        "\n",
        "        loss = criterion(outputs, labels)\n",
        "\n",
        "        # Backward pass and optimization\n",
        "        loss.backward()\n",
        "        optimizer.step()\n",
        "\n",
        "        running_loss += loss.item()\n",
        "\n",
        "        _, predicted = torch.max(outputs.data, 1)\n",
        "        total_samples += labels.size(0)\n",
        "        total_correct += (predicted == labels).sum().item()\n",
        "\n",
        "        # Calculate accuracy after each epoch\n",
        "        accuracy = 100 * total_correct / total_samples\n",
        "\n",
        "        if (i + 1) % 100 == 0:\n",
        "            print(f\"Epoch [{epoch + 1}/{num_epochs}], Step [{i + 1}/{len(trainloader)}], Accuracy: {accuracy:.2f}% ,Loss: {running_loss / 100:.4f}\")\n",
        "            running_loss = 0.0"
      ]
    },
    {
      "cell_type": "code",
      "execution_count": 9,
      "id": "e1504fbc",
      "metadata": {
        "id": "e1504fbc"
      },
      "outputs": [],
      "source": [
        "# Save the Trained Model\n",
        "\n",
        "SHADOW_PATH = 'Colab_Notebooks/cifar_mobilenetv2-01_07-2.pth'\n",
        "torch.save(shadow_model.state_dict(), SHADOW_PATH)"
      ]
    },
    {
      "cell_type": "code",
      "source": [
        "# LOADING THE SAVED MODEL\n",
        "\n",
        "# Load the trained shadow model's weights\n",
        "shadow_model.load_state_dict(torch.load('Colab_Notebooks/cifar_mobilenetv2-01_07-1.pth'))\n",
        "shadow_model.eval()  # Set the shadow model to evaluation mode"
      ],
      "metadata": {
        "colab": {
          "base_uri": "https://localhost:8080/"
        },
        "id": "si3s-VHH8rZT",
        "outputId": "ebd343f7-d42c-4ee3-a908-d9fc73d64185"
      },
      "id": "si3s-VHH8rZT",
      "execution_count": 10,
      "outputs": [
        {
          "output_type": "execute_result",
          "data": {
            "text/plain": [
              "MobileNetV2(\n",
              "  (features): Sequential(\n",
              "    (0): Conv2dNormActivation(\n",
              "      (0): Conv2d(3, 32, kernel_size=(3, 3), stride=(2, 2), padding=(1, 1), bias=False)\n",
              "      (1): BatchNorm2d(32, eps=1e-05, momentum=0.1, affine=True, track_running_stats=True)\n",
              "      (2): ReLU6(inplace=True)\n",
              "    )\n",
              "    (1): InvertedResidual(\n",
              "      (conv): Sequential(\n",
              "        (0): Conv2dNormActivation(\n",
              "          (0): Conv2d(32, 32, kernel_size=(3, 3), stride=(1, 1), padding=(1, 1), groups=32, bias=False)\n",
              "          (1): BatchNorm2d(32, eps=1e-05, momentum=0.1, affine=True, track_running_stats=True)\n",
              "          (2): ReLU6(inplace=True)\n",
              "        )\n",
              "        (1): Conv2d(32, 16, kernel_size=(1, 1), stride=(1, 1), bias=False)\n",
              "        (2): BatchNorm2d(16, eps=1e-05, momentum=0.1, affine=True, track_running_stats=True)\n",
              "      )\n",
              "    )\n",
              "    (2): InvertedResidual(\n",
              "      (conv): Sequential(\n",
              "        (0): Conv2dNormActivation(\n",
              "          (0): Conv2d(16, 96, kernel_size=(1, 1), stride=(1, 1), bias=False)\n",
              "          (1): BatchNorm2d(96, eps=1e-05, momentum=0.1, affine=True, track_running_stats=True)\n",
              "          (2): ReLU6(inplace=True)\n",
              "        )\n",
              "        (1): Conv2dNormActivation(\n",
              "          (0): Conv2d(96, 96, kernel_size=(3, 3), stride=(2, 2), padding=(1, 1), groups=96, bias=False)\n",
              "          (1): BatchNorm2d(96, eps=1e-05, momentum=0.1, affine=True, track_running_stats=True)\n",
              "          (2): ReLU6(inplace=True)\n",
              "        )\n",
              "        (2): Conv2d(96, 24, kernel_size=(1, 1), stride=(1, 1), bias=False)\n",
              "        (3): BatchNorm2d(24, eps=1e-05, momentum=0.1, affine=True, track_running_stats=True)\n",
              "      )\n",
              "    )\n",
              "    (3): InvertedResidual(\n",
              "      (conv): Sequential(\n",
              "        (0): Conv2dNormActivation(\n",
              "          (0): Conv2d(24, 144, kernel_size=(1, 1), stride=(1, 1), bias=False)\n",
              "          (1): BatchNorm2d(144, eps=1e-05, momentum=0.1, affine=True, track_running_stats=True)\n",
              "          (2): ReLU6(inplace=True)\n",
              "        )\n",
              "        (1): Conv2dNormActivation(\n",
              "          (0): Conv2d(144, 144, kernel_size=(3, 3), stride=(1, 1), padding=(1, 1), groups=144, bias=False)\n",
              "          (1): BatchNorm2d(144, eps=1e-05, momentum=0.1, affine=True, track_running_stats=True)\n",
              "          (2): ReLU6(inplace=True)\n",
              "        )\n",
              "        (2): Conv2d(144, 24, kernel_size=(1, 1), stride=(1, 1), bias=False)\n",
              "        (3): BatchNorm2d(24, eps=1e-05, momentum=0.1, affine=True, track_running_stats=True)\n",
              "      )\n",
              "    )\n",
              "    (4): InvertedResidual(\n",
              "      (conv): Sequential(\n",
              "        (0): Conv2dNormActivation(\n",
              "          (0): Conv2d(24, 144, kernel_size=(1, 1), stride=(1, 1), bias=False)\n",
              "          (1): BatchNorm2d(144, eps=1e-05, momentum=0.1, affine=True, track_running_stats=True)\n",
              "          (2): ReLU6(inplace=True)\n",
              "        )\n",
              "        (1): Conv2dNormActivation(\n",
              "          (0): Conv2d(144, 144, kernel_size=(3, 3), stride=(2, 2), padding=(1, 1), groups=144, bias=False)\n",
              "          (1): BatchNorm2d(144, eps=1e-05, momentum=0.1, affine=True, track_running_stats=True)\n",
              "          (2): ReLU6(inplace=True)\n",
              "        )\n",
              "        (2): Conv2d(144, 32, kernel_size=(1, 1), stride=(1, 1), bias=False)\n",
              "        (3): BatchNorm2d(32, eps=1e-05, momentum=0.1, affine=True, track_running_stats=True)\n",
              "      )\n",
              "    )\n",
              "    (5): InvertedResidual(\n",
              "      (conv): Sequential(\n",
              "        (0): Conv2dNormActivation(\n",
              "          (0): Conv2d(32, 192, kernel_size=(1, 1), stride=(1, 1), bias=False)\n",
              "          (1): BatchNorm2d(192, eps=1e-05, momentum=0.1, affine=True, track_running_stats=True)\n",
              "          (2): ReLU6(inplace=True)\n",
              "        )\n",
              "        (1): Conv2dNormActivation(\n",
              "          (0): Conv2d(192, 192, kernel_size=(3, 3), stride=(1, 1), padding=(1, 1), groups=192, bias=False)\n",
              "          (1): BatchNorm2d(192, eps=1e-05, momentum=0.1, affine=True, track_running_stats=True)\n",
              "          (2): ReLU6(inplace=True)\n",
              "        )\n",
              "        (2): Conv2d(192, 32, kernel_size=(1, 1), stride=(1, 1), bias=False)\n",
              "        (3): BatchNorm2d(32, eps=1e-05, momentum=0.1, affine=True, track_running_stats=True)\n",
              "      )\n",
              "    )\n",
              "    (6): InvertedResidual(\n",
              "      (conv): Sequential(\n",
              "        (0): Conv2dNormActivation(\n",
              "          (0): Conv2d(32, 192, kernel_size=(1, 1), stride=(1, 1), bias=False)\n",
              "          (1): BatchNorm2d(192, eps=1e-05, momentum=0.1, affine=True, track_running_stats=True)\n",
              "          (2): ReLU6(inplace=True)\n",
              "        )\n",
              "        (1): Conv2dNormActivation(\n",
              "          (0): Conv2d(192, 192, kernel_size=(3, 3), stride=(1, 1), padding=(1, 1), groups=192, bias=False)\n",
              "          (1): BatchNorm2d(192, eps=1e-05, momentum=0.1, affine=True, track_running_stats=True)\n",
              "          (2): ReLU6(inplace=True)\n",
              "        )\n",
              "        (2): Conv2d(192, 32, kernel_size=(1, 1), stride=(1, 1), bias=False)\n",
              "        (3): BatchNorm2d(32, eps=1e-05, momentum=0.1, affine=True, track_running_stats=True)\n",
              "      )\n",
              "    )\n",
              "    (7): InvertedResidual(\n",
              "      (conv): Sequential(\n",
              "        (0): Conv2dNormActivation(\n",
              "          (0): Conv2d(32, 192, kernel_size=(1, 1), stride=(1, 1), bias=False)\n",
              "          (1): BatchNorm2d(192, eps=1e-05, momentum=0.1, affine=True, track_running_stats=True)\n",
              "          (2): ReLU6(inplace=True)\n",
              "        )\n",
              "        (1): Conv2dNormActivation(\n",
              "          (0): Conv2d(192, 192, kernel_size=(3, 3), stride=(2, 2), padding=(1, 1), groups=192, bias=False)\n",
              "          (1): BatchNorm2d(192, eps=1e-05, momentum=0.1, affine=True, track_running_stats=True)\n",
              "          (2): ReLU6(inplace=True)\n",
              "        )\n",
              "        (2): Conv2d(192, 64, kernel_size=(1, 1), stride=(1, 1), bias=False)\n",
              "        (3): BatchNorm2d(64, eps=1e-05, momentum=0.1, affine=True, track_running_stats=True)\n",
              "      )\n",
              "    )\n",
              "    (8): InvertedResidual(\n",
              "      (conv): Sequential(\n",
              "        (0): Conv2dNormActivation(\n",
              "          (0): Conv2d(64, 384, kernel_size=(1, 1), stride=(1, 1), bias=False)\n",
              "          (1): BatchNorm2d(384, eps=1e-05, momentum=0.1, affine=True, track_running_stats=True)\n",
              "          (2): ReLU6(inplace=True)\n",
              "        )\n",
              "        (1): Conv2dNormActivation(\n",
              "          (0): Conv2d(384, 384, kernel_size=(3, 3), stride=(1, 1), padding=(1, 1), groups=384, bias=False)\n",
              "          (1): BatchNorm2d(384, eps=1e-05, momentum=0.1, affine=True, track_running_stats=True)\n",
              "          (2): ReLU6(inplace=True)\n",
              "        )\n",
              "        (2): Conv2d(384, 64, kernel_size=(1, 1), stride=(1, 1), bias=False)\n",
              "        (3): BatchNorm2d(64, eps=1e-05, momentum=0.1, affine=True, track_running_stats=True)\n",
              "      )\n",
              "    )\n",
              "    (9): InvertedResidual(\n",
              "      (conv): Sequential(\n",
              "        (0): Conv2dNormActivation(\n",
              "          (0): Conv2d(64, 384, kernel_size=(1, 1), stride=(1, 1), bias=False)\n",
              "          (1): BatchNorm2d(384, eps=1e-05, momentum=0.1, affine=True, track_running_stats=True)\n",
              "          (2): ReLU6(inplace=True)\n",
              "        )\n",
              "        (1): Conv2dNormActivation(\n",
              "          (0): Conv2d(384, 384, kernel_size=(3, 3), stride=(1, 1), padding=(1, 1), groups=384, bias=False)\n",
              "          (1): BatchNorm2d(384, eps=1e-05, momentum=0.1, affine=True, track_running_stats=True)\n",
              "          (2): ReLU6(inplace=True)\n",
              "        )\n",
              "        (2): Conv2d(384, 64, kernel_size=(1, 1), stride=(1, 1), bias=False)\n",
              "        (3): BatchNorm2d(64, eps=1e-05, momentum=0.1, affine=True, track_running_stats=True)\n",
              "      )\n",
              "    )\n",
              "    (10): InvertedResidual(\n",
              "      (conv): Sequential(\n",
              "        (0): Conv2dNormActivation(\n",
              "          (0): Conv2d(64, 384, kernel_size=(1, 1), stride=(1, 1), bias=False)\n",
              "          (1): BatchNorm2d(384, eps=1e-05, momentum=0.1, affine=True, track_running_stats=True)\n",
              "          (2): ReLU6(inplace=True)\n",
              "        )\n",
              "        (1): Conv2dNormActivation(\n",
              "          (0): Conv2d(384, 384, kernel_size=(3, 3), stride=(1, 1), padding=(1, 1), groups=384, bias=False)\n",
              "          (1): BatchNorm2d(384, eps=1e-05, momentum=0.1, affine=True, track_running_stats=True)\n",
              "          (2): ReLU6(inplace=True)\n",
              "        )\n",
              "        (2): Conv2d(384, 64, kernel_size=(1, 1), stride=(1, 1), bias=False)\n",
              "        (3): BatchNorm2d(64, eps=1e-05, momentum=0.1, affine=True, track_running_stats=True)\n",
              "      )\n",
              "    )\n",
              "    (11): InvertedResidual(\n",
              "      (conv): Sequential(\n",
              "        (0): Conv2dNormActivation(\n",
              "          (0): Conv2d(64, 384, kernel_size=(1, 1), stride=(1, 1), bias=False)\n",
              "          (1): BatchNorm2d(384, eps=1e-05, momentum=0.1, affine=True, track_running_stats=True)\n",
              "          (2): ReLU6(inplace=True)\n",
              "        )\n",
              "        (1): Conv2dNormActivation(\n",
              "          (0): Conv2d(384, 384, kernel_size=(3, 3), stride=(1, 1), padding=(1, 1), groups=384, bias=False)\n",
              "          (1): BatchNorm2d(384, eps=1e-05, momentum=0.1, affine=True, track_running_stats=True)\n",
              "          (2): ReLU6(inplace=True)\n",
              "        )\n",
              "        (2): Conv2d(384, 96, kernel_size=(1, 1), stride=(1, 1), bias=False)\n",
              "        (3): BatchNorm2d(96, eps=1e-05, momentum=0.1, affine=True, track_running_stats=True)\n",
              "      )\n",
              "    )\n",
              "    (12): InvertedResidual(\n",
              "      (conv): Sequential(\n",
              "        (0): Conv2dNormActivation(\n",
              "          (0): Conv2d(96, 576, kernel_size=(1, 1), stride=(1, 1), bias=False)\n",
              "          (1): BatchNorm2d(576, eps=1e-05, momentum=0.1, affine=True, track_running_stats=True)\n",
              "          (2): ReLU6(inplace=True)\n",
              "        )\n",
              "        (1): Conv2dNormActivation(\n",
              "          (0): Conv2d(576, 576, kernel_size=(3, 3), stride=(1, 1), padding=(1, 1), groups=576, bias=False)\n",
              "          (1): BatchNorm2d(576, eps=1e-05, momentum=0.1, affine=True, track_running_stats=True)\n",
              "          (2): ReLU6(inplace=True)\n",
              "        )\n",
              "        (2): Conv2d(576, 96, kernel_size=(1, 1), stride=(1, 1), bias=False)\n",
              "        (3): BatchNorm2d(96, eps=1e-05, momentum=0.1, affine=True, track_running_stats=True)\n",
              "      )\n",
              "    )\n",
              "    (13): InvertedResidual(\n",
              "      (conv): Sequential(\n",
              "        (0): Conv2dNormActivation(\n",
              "          (0): Conv2d(96, 576, kernel_size=(1, 1), stride=(1, 1), bias=False)\n",
              "          (1): BatchNorm2d(576, eps=1e-05, momentum=0.1, affine=True, track_running_stats=True)\n",
              "          (2): ReLU6(inplace=True)\n",
              "        )\n",
              "        (1): Conv2dNormActivation(\n",
              "          (0): Conv2d(576, 576, kernel_size=(3, 3), stride=(1, 1), padding=(1, 1), groups=576, bias=False)\n",
              "          (1): BatchNorm2d(576, eps=1e-05, momentum=0.1, affine=True, track_running_stats=True)\n",
              "          (2): ReLU6(inplace=True)\n",
              "        )\n",
              "        (2): Conv2d(576, 96, kernel_size=(1, 1), stride=(1, 1), bias=False)\n",
              "        (3): BatchNorm2d(96, eps=1e-05, momentum=0.1, affine=True, track_running_stats=True)\n",
              "      )\n",
              "    )\n",
              "    (14): InvertedResidual(\n",
              "      (conv): Sequential(\n",
              "        (0): Conv2dNormActivation(\n",
              "          (0): Conv2d(96, 576, kernel_size=(1, 1), stride=(1, 1), bias=False)\n",
              "          (1): BatchNorm2d(576, eps=1e-05, momentum=0.1, affine=True, track_running_stats=True)\n",
              "          (2): ReLU6(inplace=True)\n",
              "        )\n",
              "        (1): Conv2dNormActivation(\n",
              "          (0): Conv2d(576, 576, kernel_size=(3, 3), stride=(2, 2), padding=(1, 1), groups=576, bias=False)\n",
              "          (1): BatchNorm2d(576, eps=1e-05, momentum=0.1, affine=True, track_running_stats=True)\n",
              "          (2): ReLU6(inplace=True)\n",
              "        )\n",
              "        (2): Conv2d(576, 160, kernel_size=(1, 1), stride=(1, 1), bias=False)\n",
              "        (3): BatchNorm2d(160, eps=1e-05, momentum=0.1, affine=True, track_running_stats=True)\n",
              "      )\n",
              "    )\n",
              "    (15): InvertedResidual(\n",
              "      (conv): Sequential(\n",
              "        (0): Conv2dNormActivation(\n",
              "          (0): Conv2d(160, 960, kernel_size=(1, 1), stride=(1, 1), bias=False)\n",
              "          (1): BatchNorm2d(960, eps=1e-05, momentum=0.1, affine=True, track_running_stats=True)\n",
              "          (2): ReLU6(inplace=True)\n",
              "        )\n",
              "        (1): Conv2dNormActivation(\n",
              "          (0): Conv2d(960, 960, kernel_size=(3, 3), stride=(1, 1), padding=(1, 1), groups=960, bias=False)\n",
              "          (1): BatchNorm2d(960, eps=1e-05, momentum=0.1, affine=True, track_running_stats=True)\n",
              "          (2): ReLU6(inplace=True)\n",
              "        )\n",
              "        (2): Conv2d(960, 160, kernel_size=(1, 1), stride=(1, 1), bias=False)\n",
              "        (3): BatchNorm2d(160, eps=1e-05, momentum=0.1, affine=True, track_running_stats=True)\n",
              "      )\n",
              "    )\n",
              "    (16): InvertedResidual(\n",
              "      (conv): Sequential(\n",
              "        (0): Conv2dNormActivation(\n",
              "          (0): Conv2d(160, 960, kernel_size=(1, 1), stride=(1, 1), bias=False)\n",
              "          (1): BatchNorm2d(960, eps=1e-05, momentum=0.1, affine=True, track_running_stats=True)\n",
              "          (2): ReLU6(inplace=True)\n",
              "        )\n",
              "        (1): Conv2dNormActivation(\n",
              "          (0): Conv2d(960, 960, kernel_size=(3, 3), stride=(1, 1), padding=(1, 1), groups=960, bias=False)\n",
              "          (1): BatchNorm2d(960, eps=1e-05, momentum=0.1, affine=True, track_running_stats=True)\n",
              "          (2): ReLU6(inplace=True)\n",
              "        )\n",
              "        (2): Conv2d(960, 160, kernel_size=(1, 1), stride=(1, 1), bias=False)\n",
              "        (3): BatchNorm2d(160, eps=1e-05, momentum=0.1, affine=True, track_running_stats=True)\n",
              "      )\n",
              "    )\n",
              "    (17): InvertedResidual(\n",
              "      (conv): Sequential(\n",
              "        (0): Conv2dNormActivation(\n",
              "          (0): Conv2d(160, 960, kernel_size=(1, 1), stride=(1, 1), bias=False)\n",
              "          (1): BatchNorm2d(960, eps=1e-05, momentum=0.1, affine=True, track_running_stats=True)\n",
              "          (2): ReLU6(inplace=True)\n",
              "        )\n",
              "        (1): Conv2dNormActivation(\n",
              "          (0): Conv2d(960, 960, kernel_size=(3, 3), stride=(1, 1), padding=(1, 1), groups=960, bias=False)\n",
              "          (1): BatchNorm2d(960, eps=1e-05, momentum=0.1, affine=True, track_running_stats=True)\n",
              "          (2): ReLU6(inplace=True)\n",
              "        )\n",
              "        (2): Conv2d(960, 320, kernel_size=(1, 1), stride=(1, 1), bias=False)\n",
              "        (3): BatchNorm2d(320, eps=1e-05, momentum=0.1, affine=True, track_running_stats=True)\n",
              "      )\n",
              "    )\n",
              "    (18): Conv2dNormActivation(\n",
              "      (0): Conv2d(320, 1280, kernel_size=(1, 1), stride=(1, 1), bias=False)\n",
              "      (1): BatchNorm2d(1280, eps=1e-05, momentum=0.1, affine=True, track_running_stats=True)\n",
              "      (2): ReLU6(inplace=True)\n",
              "    )\n",
              "  )\n",
              "  (classifier): Sequential(\n",
              "    (0): Dropout(p=0.2, inplace=False)\n",
              "    (1): Linear(in_features=1280, out_features=10, bias=True)\n",
              "  )\n",
              ")"
            ]
          },
          "metadata": {},
          "execution_count": 10
        }
      ]
    },
    {
      "cell_type": "markdown",
      "id": "8167ccc0",
      "metadata": {
        "id": "8167ccc0"
      },
      "source": [
        "###  3.1 Test shadow model on test data"
      ]
    },
    {
      "cell_type": "code",
      "source": [
        "### GETTING TRAIN RESULTS ON LOADED MODEL\n",
        "\n",
        "correct = 0\n",
        "total = 0\n",
        "\n",
        "shadow_outputs_train = []\n",
        "\n",
        "# since we're not training, we don't need to calculate the gradients for our outputs\n",
        "with torch.no_grad():\n",
        "    for i, (images, labels) in enumerate(trainloader):\n",
        "        images = images.to(shadow_model_train_device)\n",
        "        labels = labels.to(shadow_model_train_device)\n",
        "\n",
        "        # calculate outputs by running images through the network\n",
        "        outputs = shadow_model(images)\n",
        "\n",
        "        # Append the outputs to the shadow_outputs list\n",
        "        shadow_outputs_train.append(outputs.detach().cpu())\n",
        "\n",
        "        # the class with the highest energy is what we choose as prediction\n",
        "        _,predicted = torch.max(outputs.data,1)\n",
        "        total += labels.size(0)\n",
        "        correct += (predicted == labels).sum().item()\n",
        "\n",
        "print(f'Accuracy of network on test images: {100 * correct // total}%')\n",
        "shadow_outputs_train = torch.cat(shadow_outputs_train)"
      ],
      "metadata": {
        "colab": {
          "base_uri": "https://localhost:8080/"
        },
        "id": "FjBSq-8MXzpI",
        "outputId": "d622ce86-3825-47bc-c75c-d3167dab5ce0"
      },
      "id": "FjBSq-8MXzpI",
      "execution_count": 11,
      "outputs": [
        {
          "output_type": "stream",
          "name": "stdout",
          "text": [
            "Accuracy of network on test images: 96%\n"
          ]
        }
      ]
    },
    {
      "cell_type": "code",
      "execution_count": 12,
      "id": "299a8a25",
      "metadata": {
        "colab": {
          "base_uri": "https://localhost:8080/"
        },
        "id": "299a8a25",
        "outputId": "aec3d8c2-a936-4614-aa57-2cbbd6206f0e"
      },
      "outputs": [
        {
          "output_type": "stream",
          "name": "stdout",
          "text": [
            "Accuracy of network on test images: 56%\n"
          ]
        }
      ],
      "source": [
        "# TESTING THE MODEL ON TESTLOADER\n",
        "correct = 0\n",
        "total = 0\n",
        "\n",
        "shadow_outputs_test = []\n",
        "\n",
        "# since we're not training, we don't need to calculate the gradients for our outputs\n",
        "with torch.no_grad():\n",
        "    for i, (images, labels) in enumerate(testloader):\n",
        "        images = images.to(shadow_model_train_device)\n",
        "        labels = labels.to(shadow_model_train_device)\n",
        "\n",
        "        # calculate outputs by running images through the network\n",
        "        outputs = shadow_model(images)\n",
        "\n",
        "        # Append the outputs to the shadow_outputs list\n",
        "        shadow_outputs_test.append(outputs.detach().cpu())\n",
        "\n",
        "        # the class with the highest energy is what we choose as prediction\n",
        "        _,predicted = torch.max(outputs.data,1)\n",
        "        total += labels.size(0)\n",
        "        correct += (predicted == labels).sum().item()\n",
        "\n",
        "print(f'Accuracy of network on test images: {100 * correct // total}%')\n",
        "shadow_outputs_test = torch.cat(shadow_outputs_test)\n",
        "\n",
        "#Accuracy of shadow model comes out to be: 53%"
      ]
    },
    {
      "cell_type": "code",
      "execution_count": 13,
      "id": "3acac14a",
      "metadata": {
        "colab": {
          "base_uri": "https://localhost:8080/"
        },
        "id": "3acac14a",
        "outputId": "7ea0e70e-f70d-4102-e3d2-157fccad6d48"
      },
      "outputs": [
        {
          "output_type": "stream",
          "name": "stdout",
          "text": [
            "Accuracy for class: plane is 69.2 %\n",
            "Accuracy for class: car   is 69.4 %\n",
            "Accuracy for class: bird  is 43.6 %\n",
            "Accuracy for class: cat   is 45.0 %\n",
            "Accuracy for class: deer  is 40.0 %\n",
            "Accuracy for class: dog   is 42.5 %\n",
            "Accuracy for class: frog  is 69.8 %\n",
            "Accuracy for class: horse is 58.5 %\n",
            "Accuracy for class: ship  is 66.7 %\n",
            "Accuracy for class: truck is 64.0 %\n"
          ]
        }
      ],
      "source": [
        "#ACCURACY PER CLASS\n",
        "\n",
        "# what are the classes that performed well, and the classes that did not perform well:\n",
        "\n",
        "# prepare to count predictions for each class\n",
        "\n",
        "classes = ('plane', 'car', 'bird', 'cat',\n",
        "           'deer', 'dog', 'frog', 'horse', 'ship', 'truck')\n",
        "correct_pred = {classname: 0 for classname in classes}\n",
        "total_pred = {classname: 0 for classname in classes}\n",
        "\n",
        "# again no gradients needed\n",
        "with torch.no_grad():\n",
        "    for i, (images, labels) in enumerate(testloader):\n",
        "        images = images.to(shadow_model_train_device)\n",
        "        labels = labels.to(shadow_model_train_device)\n",
        "\n",
        "        outputs = shadow_model(images)\n",
        "        _, predictions = torch.max(outputs, 1)\n",
        "        # collect the correct predictions for each class\n",
        "        for label, prediction in zip(labels, predictions):\n",
        "            if label == prediction:\n",
        "                correct_pred[classes[label]] += 1\n",
        "            total_pred[classes[label]] += 1\n",
        "\n",
        "\n",
        "# print accuracy for each class\n",
        "for classname, correct_count in correct_pred.items():\n",
        "    accuracy = 100 * float(correct_count) / total_pred[classname]\n",
        "    print(f'Accuracy for class: {classname:5s} is {accuracy:.1f} %')"
      ]
    },
    {
      "cell_type": "code",
      "source": [
        "members = []\n",
        "non_members = []\n",
        "for _, (images, labels) in enumerate(trainloader):\n",
        "    images = images.to(shadow_model_train_device)\n",
        "    output = shadow_model(images)\n",
        "    prediction = F.softmax(output, dim=1)\n",
        "    top_p,_ = prediction.topk(3, dim=1)\n",
        "    top_p = top_p.cpu().detach().numpy()\n",
        "    members.append(top_p)\n",
        "\n",
        "for _, (images, labels) in enumerate(testloader):\n",
        "    images = images.to(shadow_model_train_device)\n",
        "    output = shadow_model(images)\n",
        "    prediction = F.softmax(output, dim=1)\n",
        "    top_p,_ = prediction.topk(3, dim=1)\n",
        "    top_p = top_p.cpu().detach().numpy()\n",
        "    non_members.append(top_p)\n",
        "\n",
        "members_features = np.concatenate(members)\n",
        "member_labels = np.ones(len(members_features))\n",
        "members_data = np.concatenate((members_features, member_labels.reshape(-1,1)), axis=1)\n",
        "\n",
        "non_members_features = np.concatenate(non_members)\n",
        "non_member_labels = np.zeros(len(non_members_features))\n",
        "non_members_data = np.concatenate((non_members_features, non_member_labels.reshape(-1,1)), axis=1)"
      ],
      "metadata": {
        "id": "yth8hFHwuzFu"
      },
      "id": "yth8hFHwuzFu",
      "execution_count": 14,
      "outputs": []
    },
    {
      "cell_type": "code",
      "source": [
        "print(non_members_data.shape)\n",
        "print(members_data.shape)"
      ],
      "metadata": {
        "colab": {
          "base_uri": "https://localhost:8080/"
        },
        "id": "iUeX_PRYulcC",
        "outputId": "449e65a0-0492-4ee9-dc38-5000b35e13df"
      },
      "id": "iUeX_PRYulcC",
      "execution_count": 15,
      "outputs": [
        {
          "output_type": "stream",
          "name": "stdout",
          "text": [
            "(6000, 4)\n",
            "(24000, 4)\n"
          ]
        }
      ]
    },
    {
      "cell_type": "code",
      "source": [
        "print(members_data)\n",
        "print(non_members_data)"
      ],
      "metadata": {
        "colab": {
          "base_uri": "https://localhost:8080/"
        },
        "id": "u66jD0tnuqlO",
        "outputId": "5582d09a-04e2-4018-8902-a9e8bd0b76e7"
      },
      "id": "u66jD0tnuqlO",
      "execution_count": 16,
      "outputs": [
        {
          "output_type": "stream",
          "name": "stdout",
          "text": [
            "[[9.99161601e-01 8.36541061e-04 1.33047888e-06 1.00000000e+00]\n",
            " [1.00000000e+00 2.57204710e-15 1.23764930e-17 1.00000000e+00]\n",
            " [9.99803841e-01 9.38634985e-05 3.20452455e-05 1.00000000e+00]\n",
            " ...\n",
            " [9.99966502e-01 1.47857409e-05 9.21202991e-06 1.00000000e+00]\n",
            " [9.99013782e-01 9.30238341e-04 2.57235806e-05 1.00000000e+00]\n",
            " [9.99997973e-01 7.40874384e-07 7.04242154e-07 1.00000000e+00]]\n",
            "[[9.99031186e-01 8.23818787e-04 9.97955067e-05 0.00000000e+00]\n",
            " [8.39198232e-01 8.43658596e-02 7.00709224e-02 0.00000000e+00]\n",
            " [1.00000000e+00 2.85518781e-14 3.05284253e-16 0.00000000e+00]\n",
            " ...\n",
            " [9.99996066e-01 1.05720483e-06 7.38211213e-07 0.00000000e+00]\n",
            " [9.97032285e-01 2.64823926e-03 1.81998927e-04 0.00000000e+00]\n",
            " [8.66428494e-01 1.30806312e-01 2.54157791e-03 0.00000000e+00]]\n"
          ]
        }
      ]
    },
    {
      "cell_type": "code",
      "source": [
        "combined_data = np.concatenate((members_data, non_members_data), axis=0)\n",
        "with open('Colab_Notebooks/shadow_posterior_in_out.p', 'wb') as file:\n",
        "    pickle.dump(combined_data, file)"
      ],
      "metadata": {
        "id": "ZbQh6dhvvEcb"
      },
      "id": "ZbQh6dhvvEcb",
      "execution_count": 17,
      "outputs": []
    },
    {
      "cell_type": "code",
      "source": [
        "# Getting data for Attack model and making a loader out of it\n",
        "\n",
        "from torch.utils.data import DataLoader, TensorDataset\n",
        "ATTACK_TRAIN_DATA_PATH = \"Colab_Notebooks/shadow_posterior_in_out.p\"\n",
        "\n",
        "with open(ATTACK_TRAIN_DATA_PATH, \"rb\") as f:\n",
        "    attack_shadow_training_data = pickle.load(f)\n",
        "\n",
        "features = attack_shadow_training_data[:, :-1]\n",
        "labels = attack_shadow_training_data[:, -1]\n",
        "\n",
        "# Convert the data to PyTorch tensors\n",
        "features_tensor = torch.tensor(features, dtype=torch.float32)\n",
        "labels_tensor = torch.tensor(labels, dtype=torch.long)\n",
        "\n",
        "# Create a TensorDataset for the combined data\n",
        "attack_dataset = TensorDataset(features_tensor, labels_tensor)\n",
        "attack_loader = DataLoader(attack_dataset, batch_size=64, shuffle=False)"
      ],
      "metadata": {
        "id": "iK835x_iwR5-"
      },
      "id": "iK835x_iwR5-",
      "execution_count": 18,
      "outputs": []
    },
    {
      "cell_type": "code",
      "source": [
        "print(features.shape, labels.shape)"
      ],
      "metadata": {
        "colab": {
          "base_uri": "https://localhost:8080/"
        },
        "id": "ZK_QRQKKwlNS",
        "outputId": "a8604af5-0507-492b-c607-48ae750d54ef"
      },
      "id": "ZK_QRQKKwlNS",
      "execution_count": 19,
      "outputs": [
        {
          "output_type": "stream",
          "name": "stdout",
          "text": [
            "(30000, 3) (30000,)\n"
          ]
        }
      ]
    },
    {
      "cell_type": "code",
      "source": [
        "# Define the attack model architecture\n",
        "class AttackModel(nn.Module):\n",
        "    def __init__(self, input_size, hidden_size, num_classes):\n",
        "        super(AttackModel, self).__init__()\n",
        "        self.fc1 = nn.Linear(input_size, hidden_size)\n",
        "        self.relu = nn.ReLU()\n",
        "        self.fc2 = nn.Linear(hidden_size, num_classes)\n",
        "\n",
        "    def forward(self, x):\n",
        "        out = self.fc1(x)\n",
        "        out = self.relu(out)\n",
        "        out = self.fc2(out)\n",
        "        return out\n",
        "\n",
        "# Set the dimensions for input, hidden, and output layers of the attack model\n",
        "input_size = features_tensor.size(1)\n",
        "hidden_size = 64  # Choose the appropriate size for your problem\n",
        "num_classes = 2  # Binary classification (shadow or non-shadow)\n",
        "\n",
        "# Create an instance of the attack model\n",
        "attack_model = AttackModel(input_size, hidden_size, num_classes)\n",
        "\n",
        "# Define the loss function and optimizer\n",
        "criterion = nn.CrossEntropyLoss()\n",
        "optimizer = optim.Adam(attack_model.parameters(), lr=0.001)\n",
        "\n",
        "# Set the device for computation\n",
        "attack_device = torch.device(\"cuda\" if torch.cuda.is_available() else \"cpu\")\n",
        "\n",
        "# Move the model and data to the appropriate device\n",
        "attack_model.to(attack_device)\n",
        "features_tensor = features_tensor.to(attack_device)\n",
        "labels_tensor = labels_tensor.to(attack_device)\n",
        "\n",
        "# Training loop\n",
        "num_epochs = 10\n",
        "\n",
        "for epoch in range(num_epochs):\n",
        "    running_loss = 0.0\n",
        "    total = 0\n",
        "    correct = 0\n",
        "    for batch_features, batch_labels in attack_loader:\n",
        "        batch_features = batch_features.to(attack_device)\n",
        "        batch_labels = batch_labels.to(attack_device)\n",
        "\n",
        "        # Forward pass\n",
        "        outputs = attack_model(batch_features)\n",
        "        loss = criterion(outputs, batch_labels)\n",
        "\n",
        "        # Backward and optimize\n",
        "        optimizer.zero_grad()\n",
        "        loss.backward()\n",
        "        optimizer.step()\n",
        "\n",
        "        running_loss += loss.item()\n",
        "\n",
        "        # Calculate accuracy\n",
        "        _, predicted = torch.max(outputs.data, 1)\n",
        "        total += batch_labels.size(0)\n",
        "        correct += (predicted == batch_labels).sum().item()\n",
        "\n",
        "        # Print the average loss and accuracy for each epoch\n",
        "        epoch_loss = running_loss / len(attack_loader)\n",
        "        epoch_acc = 100 * correct / total\n",
        "\n",
        "    # Print the average loss for each epoch\n",
        "    epoch_loss = running_loss / len(attack_loader)\n",
        "    print(f\"Epoch [{epoch+1}/{num_epochs}], Loss: {epoch_loss:.4f}, Accuracy: {epoch_acc:.2f}%\")\n"
      ],
      "metadata": {
        "colab": {
          "base_uri": "https://localhost:8080/"
        },
        "id": "g7OIWYiywngR",
        "outputId": "83109b47-ac15-4510-ff0e-812d7dfb06b9"
      },
      "id": "g7OIWYiywngR",
      "execution_count": 21,
      "outputs": [
        {
          "output_type": "stream",
          "name": "stdout",
          "text": [
            "Epoch [1/10], Loss: 0.3854, Accuracy: 89.25%\n",
            "Epoch [2/10], Loss: 0.4405, Accuracy: 81.67%\n",
            "Epoch [3/10], Loss: 0.4477, Accuracy: 80.80%\n",
            "Epoch [4/10], Loss: 0.4553, Accuracy: 79.28%\n",
            "Epoch [5/10], Loss: 0.4644, Accuracy: 78.00%\n",
            "Epoch [6/10], Loss: 0.4737, Accuracy: 77.15%\n",
            "Epoch [7/10], Loss: 0.4771, Accuracy: 76.95%\n",
            "Epoch [8/10], Loss: 0.4809, Accuracy: 76.64%\n",
            "Epoch [9/10], Loss: 0.4819, Accuracy: 78.23%\n",
            "Epoch [10/10], Loss: 0.4828, Accuracy: 80.17%\n"
          ]
        }
      ]
    },
    {
      "cell_type": "markdown",
      "source": [
        "# Load eval.p and pre-process it\n",
        "### We need to send images from eval.p to target model and get posteriors from it and then send these posteriors to attack model and check with the ground_truth values from eval.p to get the accruacy"
      ],
      "metadata": {
        "id": "neqGkuG9D_lH"
      },
      "id": "neqGkuG9D_lH"
    },
    {
      "cell_type": "code",
      "source": [
        "EVAL_DATA_PATH = 'Colab_Notebooks/eval.p'\n",
        "\n",
        "eval_device=torch.device(\"cuda:0\" if torch.cuda.is_available() else \"cpu\")\n",
        "\n",
        "with open(EVAL_DATA_PATH, \"rb\") as f:\n",
        "    eval_dataset = pickle.load(f)\n",
        "\n",
        "eval_loader = DataLoader(eval_dataset, batch_size=64, shuffle=False)"
      ],
      "metadata": {
        "id": "EB47zQWWyX2v"
      },
      "id": "EB47zQWWyX2v",
      "execution_count": 22,
      "outputs": []
    },
    {
      "cell_type": "code",
      "source": [
        "# Getting the posteriors and ground_truth from eval.p\n",
        "# Posteriors are sent to attack model\n",
        "# Ground_truth is used in finding accuracy with attack model\n",
        "\n",
        "eval_posteriors = []\n",
        "eval_groundTruth = []\n",
        "\n",
        "with torch.no_grad():\n",
        "    for batch_idx, (images, labels, ismember) in enumerate(eval_loader):\n",
        "        images = images.to(eval_device)\n",
        "        labels = labels.to(eval_device)\n",
        "        ismember = ismember.to(eval_device)\n",
        "\n",
        "        # Calculate posteriors using the pretrained target model\n",
        "        logits = target_model(images)\n",
        "        probs = F.softmax(logits, dim=1)\n",
        "\n",
        "        # Get the top-k posteriors\n",
        "        topk_probs, _ = probs.topk(3, dim=1)\n",
        "\n",
        "        # Append the posteriors and ismember to the lists\n",
        "        eval_posteriors.append(topk_probs.cpu())\n",
        "        eval_groundTruth.append(ismember.cpu())\n",
        "\n",
        "eval_posteriors = torch.cat(eval_posteriors)\n",
        "eval_groundTruth = torch.cat(eval_groundTruth)"
      ],
      "metadata": {
        "id": "R1BYdBIiE5s7"
      },
      "id": "R1BYdBIiE5s7",
      "execution_count": 23,
      "outputs": []
    },
    {
      "cell_type": "code",
      "source": [
        "print(eval_posteriors.shape, eval_groundTruth.shape)"
      ],
      "metadata": {
        "colab": {
          "base_uri": "https://localhost:8080/"
        },
        "id": "cQPw37pbF7xX",
        "outputId": "fcc26471-a90f-44b8-d652-3d91240103d4"
      },
      "id": "cQPw37pbF7xX",
      "execution_count": 24,
      "outputs": [
        {
          "output_type": "stream",
          "name": "stdout",
          "text": [
            "torch.Size([200, 3]) torch.Size([200])\n"
          ]
        }
      ]
    },
    {
      "cell_type": "code",
      "source": [
        "eval_data_combined = np.concatenate((eval_posteriors, eval_groundTruth.reshape(-1,1)), axis=1)\n",
        "print(eval_data_combined.shape)\n",
        "\n",
        "with open('Colab_Notebooks/eval_data_combined', 'wb') as file:\n",
        "    pickle.dump(eval_data_combined, file)\n",
        "\n",
        "# here we save the eval dataset which just has"
      ],
      "metadata": {
        "colab": {
          "base_uri": "https://localhost:8080/"
        },
        "id": "ImFzqUj5GDA3",
        "outputId": "5277cd67-7657-438e-fa9e-5bcbf7a5d5df"
      },
      "id": "ImFzqUj5GDA3",
      "execution_count": 25,
      "outputs": [
        {
          "output_type": "stream",
          "name": "stdout",
          "text": [
            "(200, 4)\n"
          ]
        }
      ]
    },
    {
      "cell_type": "code",
      "source": [
        "# Loading the saved eval combined dataset and getting the dataloader from that data\n",
        "\n",
        "with open('Colab_Notebooks/eval_data_combined', \"rb\") as file:\n",
        "    eval_loaded_data = pickle.load(file)\n",
        "\n",
        "eval_features = eval_loaded_data[:, :-1]\n",
        "eval_labels = eval_loaded_data[:, -1]\n",
        "\n",
        "# Convert the data to PyTorch tensors\n",
        "features_tensor = torch.tensor(eval_features, dtype=torch.float32)\n",
        "labels_tensor = torch.tensor(eval_labels, dtype=torch.long)\n",
        "\n",
        "# Create a TensorDataset for the combined data\n",
        "evalattack_dataset = TensorDataset(features_tensor, labels_tensor)\n",
        "evalattack_loader = DataLoader(evalattack_dataset, batch_size=64, shuffle=False)"
      ],
      "metadata": {
        "id": "pE6daEKXGcpa"
      },
      "id": "pE6daEKXGcpa",
      "execution_count": 26,
      "outputs": []
    },
    {
      "cell_type": "code",
      "source": [
        "# Making predictions on attack model for eval dataset with only images, groundTruth\n",
        "\n",
        "attack_model.eval()\n",
        "\n",
        "predictions = []\n",
        "\n",
        "correct = 0\n",
        "total = 0\n",
        "\n",
        "for batch_idx, (posteriors, ismember) in enumerate(evalattack_loader):\n",
        "\n",
        "    posteriors = posteriors.to(eval_device)\n",
        "    ismember = ismember.to(eval_device)\n",
        "\n",
        "    outputs = attack_model(posteriors)\n",
        "    _, predicted = torch.max(outputs.data, 1)\n",
        "    predictions.append(predicted.cpu().numpy())\n",
        "\n",
        "    total += ismember.size(0)\n",
        "    correct += (predicted == ismember).sum().item()\n",
        "\n",
        "predictions = np.concatenate(predictions)\n",
        "\n",
        "# Calculate the accuracy\n",
        "accuracy = 100 * correct / total\n",
        "print(f\"Attack Model Accuracy: {accuracy:.2f}%\")\n",
        "\n",
        "np.save(\"attack_predictions.npy\", predictions)"
      ],
      "metadata": {
        "colab": {
          "base_uri": "https://localhost:8080/"
        },
        "id": "vF4AsoMcHRbm",
        "outputId": "7d99d56c-beef-4793-de29-cea973c39d96"
      },
      "id": "vF4AsoMcHRbm",
      "execution_count": 27,
      "outputs": [
        {
          "output_type": "stream",
          "name": "stdout",
          "text": [
            "Attack Model Accuracy: 61.50%\n"
          ]
        }
      ]
    },
    {
      "cell_type": "code",
      "source": [
        "#Saving the attack model\n",
        "torch.save(attack_model.state_dict(), \"Colab_Notebooks/attack_model-1.pth\")"
      ],
      "metadata": {
        "id": "WpyQph_cHd0W"
      },
      "id": "WpyQph_cHd0W",
      "execution_count": 28,
      "outputs": []
    },
    {
      "cell_type": "code",
      "source": [],
      "metadata": {
        "id": "c_uu5kslJTyc"
      },
      "id": "c_uu5kslJTyc",
      "execution_count": null,
      "outputs": []
    }
  ],
  "metadata": {
    "kernelspec": {
      "display_name": "Python 3",
      "name": "python3"
    },
    "language_info": {
      "codemirror_mode": {
        "name": "ipython",
        "version": 3
      },
      "file_extension": ".py",
      "mimetype": "text/x-python",
      "name": "python",
      "nbconvert_exporter": "python",
      "pygments_lexer": "ipython3",
      "version": "3.10.0"
    },
    "colab": {
      "provenance": [],
      "gpuType": "T4"
    },
    "accelerator": "GPU"
  },
  "nbformat": 4,
  "nbformat_minor": 5
}